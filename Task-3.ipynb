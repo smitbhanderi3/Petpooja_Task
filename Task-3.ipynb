{
 "cells": [
  {
   "cell_type": "markdown",
   "id": "3f3c2c7d",
   "metadata": {},
   "source": [
    "## Task-3 Write a program in C++/Python to find the CER( Character Error Rate )\n",
    "between the following words without using the library:\n",
    "1) “Petpooja”\n",
    "2) “Petooja ’’ <br> (Note: There is whitespace here)"
   ]
  },
  {
   "cell_type": "markdown",
   "id": "f9060bbd",
   "metadata": {},
   "source": [
    "## CER Formula = Total number of edits / Length of the longer string  "
   ]
  },
  {
   "cell_type": "code",
   "execution_count": 50,
   "id": "723936b7",
   "metadata": {},
   "outputs": [
    {
     "name": "stdout",
     "output_type": "stream",
     "text": [
      "Character Error Rate: 0.375\n"
     ]
    }
   ],
   "source": [
    "def calculate_cer(str1, str2):\n",
    "    str1 = str1.replace(\" \", \"\")\n",
    "    str2 = str2.replace(\" \", \"\")\n",
    "    len_str1 = len(str1)\n",
    "    len_str2 = len(str2)\n",
    "    cer = sum(a != b for a, b in zip(str1, str2)) / max(len_str1, len_str2)\n",
    "    return cer\n",
    "\n",
    "# Example usage\n",
    "word1 = \"Petpooja\"\n",
    "word2 = \"Petooja \"\n",
    "cer = calculate_cer(word1, word2)\n",
    "print(\"Character Error Rate:\", cer)\n"
   ]
  },
  {
   "cell_type": "code",
   "execution_count": null,
   "id": "3c9c3cff",
   "metadata": {},
   "outputs": [],
   "source": []
  }
 ],
 "metadata": {
  "kernelspec": {
   "display_name": "Python 3 (ipykernel)",
   "language": "python",
   "name": "python3"
  },
  "language_info": {
   "codemirror_mode": {
    "name": "ipython",
    "version": 3
   },
   "file_extension": ".py",
   "mimetype": "text/x-python",
   "name": "python",
   "nbconvert_exporter": "python",
   "pygments_lexer": "ipython3",
   "version": "3.9.12"
  }
 },
 "nbformat": 4,
 "nbformat_minor": 5
}
